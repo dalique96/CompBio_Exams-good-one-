{
 "cells": [
  {
   "cell_type": "code",
   "execution_count": 2,
   "metadata": {},
   "outputs": [
    {
     "name": "stdout",
     "output_type": "stream",
     "text": [
      "Problem 2\n",
      "total 12\n",
      "-rw-rw-r-- 1 osboxes osboxes    0 Sep  7 10:22 0\n",
      "-rw-rw-r-- 1 osboxes osboxes  775 Sep  7 10:37 Exam_1_Answers.ipynb\n",
      "-rw-rw-r-- 1 osboxes osboxes 1066 Sep  7 10:21 LICENSE\n",
      "-rw-rw-r-- 1 osboxes osboxes   72 Sep  7 10:35 Untitled.ipynb\n"
     ]
    }
   ],
   "source": [
    "echo 'Problem 2'\n",
    "ls -l"
   ]
  },
  {
   "cell_type": "raw",
   "metadata": {},
   "source": []
  },
  {
   "cell_type": "code",
   "execution_count": null,
   "metadata": {},
   "outputs": [],
   "source": []
  },
  {
   "cell_type": "code",
   "execution_count": null,
   "metadata": {},
   "outputs": [],
   "source": []
  }
 ],
 "metadata": {
  "kernelspec": {
   "display_name": "Bash",
   "language": "bash",
   "name": "bash"
  },
  "language_info": {
   "codemirror_mode": "shell",
   "file_extension": ".sh",
   "mimetype": "text/x-sh",
   "name": "bash"
  }
 },
 "nbformat": 4,
 "nbformat_minor": 2
}
